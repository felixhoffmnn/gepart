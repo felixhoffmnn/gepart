{
 "cells": [
  {
   "attachments": {},
   "cell_type": "markdown",
   "metadata": {},
   "source": [
    "## Data Preparation"
   ]
  },
  {
   "cell_type": "code",
   "execution_count": null,
   "metadata": {},
   "outputs": [],
   "source": [
    "import pandas as pd\n",
    "import seaborn as sns\n",
    "import re\n",
    "import json\n",
    "\n",
    "from studienarbeit.utils.cleaning import Cleaning\n",
    "from studienarbeit.utils.split_text import SplitText\n",
    "from studienarbeit.utils.load import EDataTypes\n",
    "from pathlib import Path\n",
    "from dotenv import load_dotenv\n",
    "from tqdm import tqdm"
   ]
  },
  {
   "cell_type": "code",
   "execution_count": null,
   "metadata": {},
   "outputs": [],
   "source": [
    "load_dotenv()\n",
    "sns.set(style=\"white\", palette=\"muted\", rc={\"figure.figsize\": (20, 8)})\n",
    "tqdm.pandas()"
   ]
  },
  {
   "cell_type": "code",
   "execution_count": null,
   "metadata": {},
   "outputs": [],
   "source": [
    "data_dir = Path(\"../../data/speeches\")\n",
    "data_type = EDataTypes.SPEECHES"
   ]
  },
  {
   "cell_type": "code",
   "execution_count": null,
   "metadata": {},
   "outputs": [],
   "source": [
    "with open(\"../../data/party_colors.json\", \"r\", encoding=\"utf-8\") as f:\n",
    "  party_palette = json.load(f)\n",
    "cleaning = Cleaning()\n",
    "split_text = SplitText()"
   ]
  },
  {
   "cell_type": "code",
   "execution_count": null,
   "metadata": {},
   "outputs": [],
   "source": [
    "df_prep = pd.read_parquet(data_dir / \"speeches_before_cleaning.parquet\")"
   ]
  },
  {
   "cell_type": "code",
   "execution_count": null,
   "metadata": {},
   "outputs": [],
   "source": [
    "df_prep = df_prep[df_prep[\"politicianId\"] != -1]\n",
    "df_prep"
   ]
  },
  {
   "cell_type": "code",
   "execution_count": null,
   "metadata": {},
   "outputs": [],
   "source": [
    "df_prep = df_prep[df_prep[\"word_count\"] >= 200].reset_index(drop=True)\n",
    "df_prep"
   ]
  },
  {
   "cell_type": "code",
   "execution_count": null,
   "metadata": {},
   "outputs": [],
   "source": [
    "df_prep = df_prep.drop(columns=[\"char_count\", \"word_count\", \"sentence_count\"])\n",
    "df_prep"
   ]
  },
  {
   "cell_type": "code",
   "execution_count": null,
   "metadata": {},
   "outputs": [],
   "source": [
    "df_prep.duplicated(subset=[\"speechContent\"]).sum()"
   ]
  },
  {
   "cell_type": "code",
   "execution_count": null,
   "metadata": {},
   "outputs": [],
   "source": [
    "df_prep = df_prep.drop_duplicates(subset=[\"speechContent\"]).reset_index(drop=True)\n",
    "df_prep"
   ]
  },
  {
   "cell_type": "code",
   "execution_count": null,
   "metadata": {},
   "outputs": [],
   "source": [
    "df_prep.duplicated(subset=[\"speechContent\"]).sum()"
   ]
  },
  {
   "cell_type": "code",
   "execution_count": null,
   "metadata": {},
   "outputs": [],
   "source": [
    "df_prep = split_text.split_dataframe_texts(df_prep, \"speechContent\", 512)\n",
    "df_prep"
   ]
  },
  {
   "cell_type": "code",
   "execution_count": null,
   "metadata": {},
   "outputs": [],
   "source": [
    "def initial_cleaning(text):\n",
    "    text = re.sub(\"[\\u2022\\u2023\\u25E6\\u2043\\u2219\\uf0b7\\u25fc]\\s\", \" \", text)\n",
    "    text = re.sub(\"({\\d*})\", \"\", text)\n",
    "    text = re.sub(\"\\(\\w*\\)\", \"\", text)\n",
    "    text = text.replace(\". –\", \". \")\n",
    "    \n",
    "    text = re.sub(\"\\n\", \" \", text)\n",
    "    text = re.sub(\"\\t\", \" \", text)\n",
    "    text = re.sub(\"\\s+\", \" \", text)\n",
    "    text = text.strip()\n",
    "    \n",
    "    return text"
   ]
  },
  {
   "cell_type": "code",
   "execution_count": null,
   "metadata": {},
   "outputs": [],
   "source": [
    "df_prep[\"clean_text\"] = df_prep[\"speechContent\"].progress_apply(lambda x: cleaning.clean_text(initial_cleaning(x), keep_punctuation=True, keep_upper=True)).astype(\"string[pyarrow]\")\n",
    "df_prep = df_prep.drop(columns=[\"speechContent\", \"politicianId\"])\n",
    "\n",
    "df_prep[\"tokenized_text\"] = df_prep[\"clean_text\"].progress_apply(lambda x: cleaning.filter_text(cleaning.lemma_text(x))).astype(\"string[pyarrow]\")\n",
    "\n",
    "df_prep"
   ]
  },
  {
   "cell_type": "code",
   "execution_count": null,
   "metadata": {},
   "outputs": [],
   "source": [
    "with open(\"../../data/party_encoding.json\", \"r\", encoding=\"utf-8\") as f:\n",
    "  party_encoding = json.load(f)\n",
    "\n",
    "df_prep[\"party\"] = df_prep[\"party\"].map(party_encoding)\n",
    "df_prep"
   ]
  },
  {
   "cell_type": "code",
   "execution_count": null,
   "metadata": {},
   "outputs": [],
   "source": [
    "df_prep.to_parquet(data_dir / \"speeches.parquet\", index=False)"
   ]
  }
 ],
 "metadata": {
  "kernelspec": {
   "display_name": "studienarbeit-gw8hJpxJ-py3.10",
   "language": "python",
   "name": "python3"
  },
  "language_info": {
   "codemirror_mode": {
    "name": "ipython",
    "version": 3
   },
   "file_extension": ".py",
   "mimetype": "text/x-python",
   "name": "python",
   "nbconvert_exporter": "python",
   "pygments_lexer": "ipython3",
   "version": "3.10.7"
  }
 },
 "nbformat": 4,
 "nbformat_minor": 2
}
