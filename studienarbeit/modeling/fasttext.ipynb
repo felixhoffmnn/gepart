{
 "cells": [
  {
   "attachments": {},
   "cell_type": "markdown",
   "metadata": {},
   "source": [
    "# Modeling"
   ]
  },
  {
   "cell_type": "code",
   "execution_count": null,
   "metadata": {},
   "outputs": [],
   "source": [
    "import fasttext\n",
    "import fasttext.util\n",
    "import numpy as np\n",
    "import pandas as pd\n",
    "from sklearn.metrics import (\n",
    "    ConfusionMatrixDisplay,\n",
    "    classification_report,\n",
    "    confusion_matrix,\n",
    ")\n",
    "from sklearn.model_selection import train_test_split\n",
    "\n",
    "# Either load the bin file using the command, or the text (vector) file from https://fasttext.cc/docs/en/crawl-vectors.html\n",
    "# fasttext.util.download_model(\"de\", if_exists=\"ignore\")"
   ]
  },
  {
   "attachments": {},
   "cell_type": "markdown",
   "metadata": {},
   "source": [
    "## FastText\n",
    "\n",
    "---"
   ]
  },
  {
   "cell_type": "code",
   "execution_count": null,
   "metadata": {},
   "outputs": [],
   "source": [
    "parameter = {\"input\": \"train.txt\", \"pretrainedVectors\": \"cc.de.300.vec\"} # \"epoch\": 50, \"lr\": 0.05, \"wordNgrams\": 2, \"verbose\": 2, \"minCount\":1, \"loss\": \"ns\", \"lrUpdateRate\": 100, \"thread\": 4, \"ws\": 5, \"dim\": 300,\n"
   ]
  },
  {
   "cell_type": "code",
   "execution_count": null,
   "metadata": {},
   "outputs": [],
   "source": [
    "X_train, X_test, y_train, y_test = train_test_split(\n",
    "    df_modeling[\"clean_text\"], df_modeling[\"party\"], test_size=0.2, random_state=42\n",
    ")\n"
   ]
  },
  {
   "cell_type": "code",
   "execution_count": null,
   "metadata": {},
   "outputs": [],
   "source": [
    "df_test = pd.DataFrame({\"text\": X_test, \"party\": y_test})"
   ]
  },
  {
   "cell_type": "code",
   "execution_count": null,
   "metadata": {},
   "outputs": [],
   "source": [
    "test = df_modeling.copy()\n",
    "\n",
    "with open(Path(\"train.txt\"), \"w\") as f:\n",
    "    for index, row in test[:int(test.shape[0] * 0.8)].iterrows():\n",
    "        f.write(f\"__label__{row['party']} {row['clean_text']}\\n\")\n",
    "\n",
    "with open(Path(\"test.txt\"), \"w\") as f:\n",
    "    for index, row in test[int(test.shape[0] * 0.8):].iterrows():\n",
    "        f.write(f\"__label__{row['party']} {row['clean_text']}\\n\")\n"
   ]
  },
  {
   "cell_type": "code",
   "execution_count": null,
   "metadata": {},
   "outputs": [],
   "source": [
    "model = fasttext.train_supervised(input=\"train.txt\", epoch=5, lr=0.1, wordNgrams=2, loss=\"softmax\", dim=300, pretrainedVectors=\"cc.de.300.vec\")"
   ]
  },
  {
   "cell_type": "code",
   "execution_count": null,
   "metadata": {},
   "outputs": [],
   "source": [
    "test_score = model.test(\"test.txt\")\n",
    "\n",
    "print(f\"Count of test data (N): {test_score[0]}\")\n",
    "print(f\"F1 Score: {2 * ((test_score[1] * test_score[2]) / (test_score[1] + test_score[2]))}\")\n",
    "print(f\"Percision: {test_score[1]}\")\n",
    "print(f\"Recall: {test_score[2]}\")"
   ]
  },
  {
   "cell_type": "code",
   "execution_count": null,
   "metadata": {},
   "outputs": [],
   "source": [
    "df_test[\"prediction\"] = df_test[\"text\"].apply(lambda x: int(model.predict(x)[0][0].replace(\"__label__\", \"\")))"
   ]
  },
  {
   "cell_type": "code",
   "execution_count": null,
   "metadata": {},
   "outputs": [],
   "source": [
    "cm = confusion_matrix(df_test[\"party\"], df_test[\"prediction\"], normalize=\"true\")\n",
    "disp = ConfusionMatrixDisplay(confusion_matrix=cm, display_labels=party_encoding.keys())\n",
    "disp.plot()"
   ]
  }
 ],
 "metadata": {
  "kernelspec": {
   "display_name": ".venv",
   "language": "python",
   "name": "python3"
  },
  "language_info": {
   "codemirror_mode": {
    "name": "ipython",
    "version": 3
   },
   "file_extension": ".py",
   "mimetype": "text/x-python",
   "name": "python",
   "nbconvert_exporter": "python",
   "pygments_lexer": "ipython3",
   "version": "3.11.2"
  },
  "vscode": {
   "interpreter": {
    "hash": "7abe641ef5c60e7b2b79f06dad82c6b1ae6b3c4f8500bc012ee8285dc22561c6"
   }
  }
 },
 "nbformat": 4,
 "nbformat_minor": 2
}
