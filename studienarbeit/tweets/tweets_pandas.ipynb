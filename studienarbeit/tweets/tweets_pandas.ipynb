{
 "cells": [
  {
   "attachments": {},
   "cell_type": "markdown",
   "metadata": {},
   "source": [
    "# Tweets (Sältzer)"
   ]
  },
  {
   "cell_type": "code",
   "execution_count": null,
   "metadata": {},
   "outputs": [],
   "source": [
    "import pandas as pd\n",
    "from pathlib import Path\n",
    "import seaborn as sns\n",
    "import json\n",
    "\n",
    "data_dir = Path('../../data/tweets')\n",
    "\n",
    "sns.set(style=\"white\", palette=\"muted\", rc={\"figure.figsize\": (20, 8)})\n",
    "line_kws={\"color\":\"r\",\"alpha\":0.7,\"lw\":5}"
   ]
  },
  {
   "attachments": {},
   "cell_type": "markdown",
   "metadata": {},
   "source": [
    "## Business Understanding\n",
    "\n",
    "---\n",
    "\n",
    "Lorem"
   ]
  },
  {
   "attachments": {},
   "cell_type": "markdown",
   "metadata": {},
   "source": [
    "## Data Understanding\n",
    "\n",
    "---"
   ]
  },
  {
   "cell_type": "code",
   "execution_count": null,
   "metadata": {},
   "outputs": [],
   "source": [
    "# Load the initial data\n",
    "\n",
    "df = pd.read_feather(\"tweets/tweets.feather\")"
   ]
  },
  {
   "cell_type": "markdown",
   "metadata": {},
   "source": [
    "### Split Dataframe"
   ]
  },
  {
   "cell_type": "code",
   "execution_count": null,
   "metadata": {},
   "outputs": [],
   "source": [
    "# Save head of data frame to file for inspection\n",
    "\n",
    "with open(\"tweets/tweets_head.txt\", \"w\") as f, pd.option_context('display.max_rows', None, 'display.max_columns', None):\n",
    "    f.write(str(df.head()))"
   ]
  },
  {
   "cell_type": "code",
   "execution_count": null,
   "metadata": {},
   "outputs": [],
   "source": [
    "# Save head of data frame to file for inspection\n",
    "\n",
    "with open(\"tweets/tweets_core_head.txt\", \"w\") as f, pd.option_context('display.max_rows', None, 'display.max_columns', None):\n",
    "    f.write(str(df.head()))\n",
    "    \n",
    "with open(\"tweets/tweets_core_types.txt\", \"w\") as f, pd.option_context('display.max_rows', None, 'display.max_columns', None):\n",
    "    f.write(str(df.dtypes))"
   ]
  },
  {
   "cell_type": "code",
   "execution_count": null,
   "metadata": {},
   "outputs": [],
   "source": [
    "# Declare the meta data columns to split the data frame\n",
    "\n",
    "meta_data = [\"screen_name\", \"user_id\", \"status_id\"]"
   ]
  },
  {
   "cell_type": "code",
   "execution_count": null,
   "metadata": {},
   "outputs": [],
   "source": [
    "# Load the columns related to Abstimmungen\n",
    "\n",
    "with open(\"tweets/tweets_filter_abstimmungen.txt\", \"r\") as f:\n",
    "    lines_abstimmung = f.read().splitlines()"
   ]
  },
  {
   "cell_type": "code",
   "execution_count": null,
   "metadata": {},
   "outputs": [],
   "source": [
    "# Save the data frame consisting of meta data and columns related to Abstimmungen\n",
    "\n",
    "tweets_abstimmungen = df[meta_data + lines_abstimmung]\n",
    "\n",
    "tweets_abstimmungen.to_pickle(Path(\"tweets/tweets_abstimmungen.pkl\"))"
   ]
  },
  {
   "cell_type": "code",
   "execution_count": null,
   "metadata": {},
   "outputs": [],
   "source": [
    "# Load the columns related to Ausschuss\n",
    "\n",
    "with open(\"tweets/tweets_filter_ausschuss.txt\", \"r\") as f:\n",
    "    lines_ausschuss = f.read().splitlines()"
   ]
  },
  {
   "cell_type": "code",
   "execution_count": null,
   "metadata": {},
   "outputs": [],
   "source": [
    "# Save the data frame consisting of meta data and columns related to Ausschuss\n",
    "\n",
    "tweets_ausschuss = df[meta_data + lines_ausschuss]\n",
    "\n",
    "tweets_ausschuss.to_pickle(Path(\"tweets/tweets_ausschuss.pkl\"))"
   ]
  },
  {
   "cell_type": "code",
   "execution_count": null,
   "metadata": {},
   "outputs": [],
   "source": [
    "# Load the columns related to Ausschuss\n",
    "\n",
    "with open(\"tweets/tweets_filter_meta_data.txt\", \"r\") as f:\n",
    "    lines_meta_data = f.read().splitlines()"
   ]
  },
  {
   "cell_type": "code",
   "execution_count": null,
   "metadata": {},
   "outputs": [],
   "source": [
    "# Save the data frame consisting of meta data and columns related to Meta Data\n",
    "\n",
    "tweets_meta_data = df[meta_data + lines_meta_data]\n",
    "\n",
    "tweets_meta_data.to_pickle(Path(\"tweets/tweets_meta_data.pkl\"))"
   ]
  },
  {
   "cell_type": "code",
   "execution_count": null,
   "metadata": {},
   "outputs": [],
   "source": [
    "# Load the columns with only empty values (\"NA\")\n",
    "\n",
    "with open(\"tweets/empty_columns.txt\", \"r\") as f:\n",
    "    empty_columns = f.read().splitlines()"
   ]
  },
  {
   "cell_type": "code",
   "execution_count": null,
   "metadata": {},
   "outputs": [],
   "source": [
    "# Filter the core data frame and save it\n",
    "\n",
    "tweets_core = df.drop(columns=lines_abstimmung + lines_ausschuss + empty_columns + lines_meta_data, axis=1)\n",
    "\n",
    "tweets_core.to_pickle(Path(\"tweets/tweets_core.pkl\"))"
   ]
  },
  {
   "cell_type": "code",
   "execution_count": null,
   "metadata": {},
   "outputs": [],
   "source": [
    "# Check for columns with only empty values\n",
    "\n",
    "unique_values = {col: list(tweets_core[col].unique()) if len(tweets_core[col].unique()) <= 20 else None for col in tweets_core}\n",
    "\n",
    "with open(\"tweets/tweets_unique_values.json\", \"w\") as f:\n",
    "    json.dump(unique_values, f)"
   ]
  },
  {
   "cell_type": "markdown",
   "metadata": {},
   "source": [
    "### Replace and Convert Values"
   ]
  },
  {
   "cell_type": "code",
   "execution_count": null,
   "metadata": {},
   "outputs": [],
   "source": [
    "# Iterate over each column and check if it contains NA values and replace them with None\n",
    "\n",
    "for col in tweets_core:\n",
    "    tweets_core[col] = tweets_core[col].apply(lambda x: None if x == \"NA\" or x == \"NA, NA\" or x == \"NA, NA, NA, NA, NA, NA, NA, NA\" else x)"
   ]
  },
  {
   "cell_type": "code",
   "execution_count": null,
   "metadata": {},
   "outputs": [],
   "source": [
    "convert_dict = {\n",
    "  \"screen_name\": str,\n",
    "  \"user_id\": str,\n",
    "  \"status_id\": str,\n",
    "  \"created_at\": str, # TODO: Convert to datetime\n",
    "  \"text\": str,\n",
    "  \"is_retweet\": bool,\n",
    "  \"lang\": str,\n",
    "  \"fullname\": str,\n",
    "  \"faction\": pd.Int8Dtype(),\n",
    "  \"name\": str,\n",
    "  \"social\": pd.Int8Dtype(),\n",
    "  \"economic\": pd.Int8Dtype(),\n",
    "  # \"source\": str,\n",
    "  \"reply_to_status_id\": pd.Int64Dtype(),\n",
    "  \"reply_to_user_id\": pd.Int64Dtype(),\n",
    "  \"reply_to_screen_name\": str,\n",
    "  # \"is_quote\": bool,\n",
    "  \"favorite_count\": pd.Int16Dtype(),\n",
    "  \"retweet_count\": pd.Int16Dtype(),\n",
    "  \"hashtags\": str, # TODO: Convert to list\n",
    "  # \"urls_url\": str,\n",
    "  # \"urls_t.co\": str,\n",
    "  # \"urls_expanded_url\": str,\n",
    "  # \"media_url\": str,\n",
    "  # \"media_t.co\": str,\n",
    "  # \"media_expanded_url\": str,\n",
    "  # \"media_type\": str,\n",
    "  # \"ext_media_url\": str,\n",
    "  # \"ext_media_t.co\": str,\n",
    "  # \"ext_media_expanded_url\": str,\n",
    "  \"mentions_user_id\": str, # TODO: Convert to list\n",
    "  \"retweet_status_id\": pd.Int64Dtype(),\n",
    "  \"retweet_text\": str,\n",
    "  \"retweet_created_at\": str, # TODO: Convert to datetime\n",
    "  # \"retweet_source\": str,\n",
    "  \"retweet_favorite_count\": pd.Int32Dtype(),\n",
    "  \"retweet_retweet_count\": pd.Int16Dtype(),\n",
    "  # \"place_url\": str,\n",
    "  \"place_name\": str,\n",
    "  \"place_full_name\": str,\n",
    "  \"place_type\": str,\n",
    "  \"country\": str,\n",
    "  \"country_code\": str,\n",
    "  # \"geo_coords\": list[str], # TODO: Convert to list\n",
    "  # \"coords_coords\": list[str], # TODO: Convert to list\n",
    "  # \"bbox_coords\": list[str], # TODO: Convert to list\n",
    "  # \"status_url\": str,\n",
    "  \"name.1\": str,\n",
    "  \"location\": str,\n",
    "  \"description\": str,\n",
    "  \"description\": str,\n",
    "  # \"protected\": bool,\n",
    "  \"followers_count\": pd.Int32Dtype(),\n",
    "  \"friends_count\": pd.Int16Dtype(),\n",
    "  \"listed_count\": pd.Int16Dtype(),\n",
    "  \"statuses_count\": pd.Int32Dtype(),\n",
    "  \"favourites_count\": pd.Int32Dtype(),\n",
    "  \"account_created_at\": str, # TODO: Convert to datetime\n",
    "  # \"verified\": bool,\n",
    "  # \"profile_url\": str,\n",
    "  # \"profile_expanded_url\": str,\n",
    "  # \"profile_banner_url\": str,\n",
    "  # \"profile_background_url\": str,\n",
    "  # \"profile_image_url\": str,\n",
    "  # \"dups\": bool,\n",
    "  # \"edited\": str, # TODO: Convert to datetime\n",
    "  \"parliament\": str,\n",
    "  \"party\": str,\n",
    "  \"id\": str,\n",
    "  \"lastname\": str,\n",
    "  \"firstname\": str,\n",
    "  \"birthyear\": pd.Int16Dtype(),\n",
    "  \"list\": str,\n",
    "  \"position\": pd.Int8Dtype(),\n",
    "  \"won\": bool,\n",
    "  \"district\": str,\n",
    "  \"won.1\": bool,\n",
    "  \"number\": pd.Int16Dtype(),\n",
    "  \"result\": pd.Float64Dtype(),\n",
    "  \"profession\": str,\n",
    "  \"gender\": str,\n",
    "  \"education\": str,\n",
    "  # \"min\": bool,\n",
    "  # \"partyoffice\": bool,\n",
    "}"
   ]
  },
  {
   "cell_type": "code",
   "execution_count": null,
   "metadata": {},
   "outputs": [],
   "source": [
    "tweets_core_typed = tweets_core.copy()"
   ]
  },
  {
   "cell_type": "code",
   "execution_count": null,
   "metadata": {},
   "outputs": [],
   "source": [
    "tweets_core_typed = tweets_core_typed.astype(convert_dict)"
   ]
  },
  {
   "cell_type": "code",
   "execution_count": null,
   "metadata": {},
   "outputs": [],
   "source": [
    "with pd.option_context('display.max_rows', None, 'display.max_columns', None):\n",
    "  print(tweets_core_typed.dtypes)"
   ]
  },
  {
   "cell_type": "code",
   "execution_count": null,
   "metadata": {},
   "outputs": [],
   "source": [
    "# Check for columns with only empty values\n",
    "\n",
    "unique_values = {columnName: columnData.astype(str).unique() for columnName, columnData in tweets_core_typed.items()}\n",
    "\n",
    "print(unique_values)"
   ]
  },
  {
   "cell_type": "code",
   "execution_count": null,
   "metadata": {},
   "outputs": [],
   "source": [
    "tweets_core_typed.to_pickle(Path(\"tweets/tweets_core_typed.pkl\"))"
   ]
  }
 ],
 "metadata": {
  "kernelspec": {
   "display_name": ".venv",
   "language": "python",
   "name": "python3"
  },
  "language_info": {
   "codemirror_mode": {
    "name": "ipython",
    "version": 3
   },
   "file_extension": ".py",
   "mimetype": "text/x-python",
   "name": "python",
   "nbconvert_exporter": "python",
   "pygments_lexer": "ipython3",
   "version": "3.10.8"
  },
  "vscode": {
   "interpreter": {
    "hash": "7abe641ef5c60e7b2b79f06dad82c6b1ae6b3c4f8500bc012ee8285dc22561c6"
   }
  }
 },
 "nbformat": 4,
 "nbformat_minor": 2
}
