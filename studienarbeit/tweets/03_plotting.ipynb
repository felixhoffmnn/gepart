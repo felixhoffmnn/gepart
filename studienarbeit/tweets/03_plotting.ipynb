{
 "cells": [
  {
   "attachments": {},
   "cell_type": "markdown",
   "metadata": {},
   "source": [
    "# Plotting the Tweets\n",
    "\n",
    "This notebook is used to plot the tweets after they have been cleaned and preprocessed. This process is done in `./preparation.ipynb`."
   ]
  },
  {
   "attachments": {},
   "cell_type": "markdown",
   "metadata": {},
   "source": [
    "## Config and Imports"
   ]
  },
  {
   "cell_type": "code",
   "execution_count": null,
   "metadata": {},
   "outputs": [],
   "source": [
    "import json\n",
    "from pathlib import Path\n",
    "\n",
    "import matplotlib.pyplot as plt\n",
    "import numpy as np\n",
    "import plotly.express as px\n",
    "import seaborn as sns\n",
    "from ydata_profiling import ProfileReport\n",
    "\n",
    "from studienarbeit.utils.load import EDataTypes, Load\n",
    "from studienarbeit.utils.plots import Plots"
   ]
  },
  {
   "cell_type": "code",
   "execution_count": null,
   "metadata": {},
   "outputs": [],
   "source": [
    "file_name = \"prep_tweets_sent_full.parquet\"\n",
    "data_type = EDataTypes.TWEETS\n",
    "data_dir = Path(\"../../data/\") \n",
    "\n",
    "with open(data_dir / \"party_colors.json\", \"r\", encoding=\"utf-8\") as f:\n",
    "    party_palette = json.load(f)\n",
    "\n",
    "load = Load(data_type=data_type)\n",
    "plot = Plots(data_type=data_type, party_palette=party_palette)"
   ]
  },
  {
   "cell_type": "code",
   "execution_count": null,
   "metadata": {},
   "outputs": [],
   "source": [
    "df = load.load_dataframe(file_name)"
   ]
  },
  {
   "cell_type": "code",
   "execution_count": null,
   "metadata": {},
   "outputs": [],
   "source": [
    "df.shape"
   ]
  },
  {
   "cell_type": "code",
   "execution_count": null,
   "metadata": {},
   "outputs": [],
   "source": [
    "df.head(10)"
   ]
  },
  {
   "attachments": {},
   "cell_type": "markdown",
   "metadata": {},
   "source": [
    "## Plots"
   ]
  },
  {
   "cell_type": "code",
   "execution_count": null,
   "metadata": {},
   "outputs": [],
   "source": [
    "profile = ProfileReport(df, title=\"Profiling Report\")\n",
    "profile.to_file(\"03_plotting.html\")"
   ]
  },
  {
   "cell_type": "code",
   "execution_count": null,
   "metadata": {},
   "outputs": [],
   "source": [
    "fig = px.area(df.groupby(\"created_at\")[\"party\"].value_counts().unstack().resample(\"M\").sum(), facet_col=\"party\", title=\"Anzahl pro Monat nach Partei\", facet_col_wrap=2, height=1000, labels={\"value\": \"Anzahl\", \"created_at\": \"Datum\"})\n",
    "fig.write_image(\"../../data/images/tweets/anzahl_pro_monat_nach_partei.png\", width=1500, scale=2)\n",
    "fig.show()"
   ]
  },
  {
   "cell_type": "code",
   "execution_count": null,
   "metadata": {},
   "outputs": [],
   "source": [
    "plot.party_count(df)"
   ]
  },
  {
   "attachments": {},
   "cell_type": "markdown",
   "metadata": {},
   "source": [
    "Print the sentiment distribution of the tweets using latex for the paper."
   ]
  },
  {
   "cell_type": "code",
   "execution_count": null,
   "metadata": {},
   "outputs": [],
   "source": [
    "sentiment_distribution = df.groupby(\"party\")[\"sentiment\"].value_counts().groupby(\"party\", group_keys=False).apply(lambda x: x / x.sum()).unstack()\n",
    "\n",
    "print(f\"\\n{sentiment_distribution.round(2).style.to_latex()}\")"
   ]
  },
  {
   "cell_type": "code",
   "execution_count": null,
   "metadata": {},
   "outputs": [],
   "source": [
    "if \"sentiment\" in df.columns:\n",
    "    plot.sentiment(df)"
   ]
  },
  {
   "cell_type": "code",
   "execution_count": null,
   "metadata": {},
   "outputs": [],
   "source": [
    "plot.word_count(df, title=\"Wortanzahl pro Partei vor Bereinigung\", column=\"init_word_count\", x_lim=60)"
   ]
  },
  {
   "cell_type": "code",
   "execution_count": null,
   "metadata": {},
   "outputs": [],
   "source": [
    "plot.word_count(df, title=\"Wortanzahl pro Partei nach Bereinigung\", x_lim=40)"
   ]
  },
  {
   "cell_type": "code",
   "execution_count": null,
   "metadata": {},
   "outputs": [],
   "source": [
    "plot.gender(df)"
   ]
  },
  {
   "cell_type": "code",
   "execution_count": null,
   "metadata": {},
   "outputs": [],
   "source": [
    "plot.user_count(df)"
   ]
  },
  {
   "cell_type": "code",
   "execution_count": null,
   "metadata": {},
   "outputs": [],
   "source": [
    "plot.wordclouds(df, title=\"Wortwolke pro Partei vor Bereinigung\", column=\"lemma_text\")"
   ]
  },
  {
   "cell_type": "code",
   "execution_count": null,
   "metadata": {},
   "outputs": [],
   "source": [
    "corr = df.select_dtypes(exclude=[\"object\", \"category\", \"datetime64[ns]\", \"bool\"]).corr(numeric_only=True)\n",
    "mask = np.triu(np.ones_like(corr, dtype=bool))\n",
    "mask[np.diag_indices_from(mask)] = False\n",
    "\n",
    "fig, ax = plt.subplots(figsize=(10, 10))\n",
    "corr_plot = sns.heatmap(\n",
    "    corr,\n",
    "    mask=mask,\n",
    "    cmap=\"coolwarm\",\n",
    "    center=0,\n",
    "    square=True,\n",
    "    cbar_kws={\"shrink\": 0.5},\n",
    "    annot=True,\n",
    "    annot_kws={\"fontsize\": 10},\n",
    "    fmt=\".2f\",\n",
    "    ax=ax,\n",
    ")"
   ]
  }
 ],
 "metadata": {
  "kernelspec": {
   "display_name": ".venv",
   "language": "python",
   "name": "python3"
  },
  "language_info": {
   "codemirror_mode": {
    "name": "ipython",
    "version": 3
   },
   "file_extension": ".py",
   "mimetype": "text/x-python",
   "name": "python",
   "nbconvert_exporter": "python",
   "pygments_lexer": "ipython3",
   "version": "3.10.10"
  }
 },
 "nbformat": 4,
 "nbformat_minor": 2
}
