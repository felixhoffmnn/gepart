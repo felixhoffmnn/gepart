{
 "cells": [
  {
   "attachments": {},
   "cell_type": "markdown",
   "metadata": {},
   "source": [
    "# Tweets (Sältzer)"
   ]
  },
  {
   "cell_type": "code",
   "execution_count": 1,
   "metadata": {},
   "outputs": [],
   "source": [
    "import pandas as pd\n",
    "from pathlib import Path\n",
    "import seaborn as sns\n",
    "import polars as pl\n",
    "from matplotlib import pyplot as plt\n",
    "import json\n",
    "from studienarbeit.utils.cleaning import CleanText\n",
    "from dotenv import load_dotenv\n",
    "\n",
    "load_dotenv()\n",
    "\n",
    "data_dir = Path(\"../../data/tweets\")\n",
    "\n",
    "sns.set(style=\"white\", palette=\"muted\", rc={\"figure.figsize\": (20, 8)})\n",
    "line_kws={\"color\":\"r\",\"alpha\":0.7,\"lw\":5}"
   ]
  },
  {
   "attachments": {},
   "cell_type": "markdown",
   "metadata": {},
   "source": [
    "## Business Understanding\n",
    "\n",
    "---\n",
    "\n",
    "Lorem"
   ]
  },
  {
   "attachments": {},
   "cell_type": "markdown",
   "metadata": {},
   "source": [
    "## Data Understanding\n",
    "\n",
    "---"
   ]
  },
  {
   "cell_type": "code",
   "execution_count": 2,
   "metadata": {},
   "outputs": [],
   "source": [
    "df = pd.read_feather(data_dir / \"tweets_full.feather\")"
   ]
  },
  {
   "cell_type": "code",
   "execution_count": 3,
   "metadata": {},
   "outputs": [
    {
     "data": {
      "text/html": [
       "<div>\n",
       "<style scoped>\n",
       "    .dataframe tbody tr th:only-of-type {\n",
       "        vertical-align: middle;\n",
       "    }\n",
       "\n",
       "    .dataframe tbody tr th {\n",
       "        vertical-align: top;\n",
       "    }\n",
       "\n",
       "    .dataframe thead th {\n",
       "        text-align: right;\n",
       "    }\n",
       "</style>\n",
       "<table border=\"1\" class=\"dataframe\">\n",
       "  <thead>\n",
       "    <tr style=\"text-align: right;\">\n",
       "      <th></th>\n",
       "      <th>screen_name</th>\n",
       "      <th>user_id</th>\n",
       "      <th>status_id</th>\n",
       "      <th>created_at</th>\n",
       "      <th>text</th>\n",
       "      <th>is_retweet</th>\n",
       "      <th>lang</th>\n",
       "      <th>fullname</th>\n",
       "      <th>faction</th>\n",
       "      <th>name</th>\n",
       "      <th>...</th>\n",
       "      <th>Masernimpfpflicht.in.Gemeinschaftseinrichtungen</th>\n",
       "      <th>Gewerbesteuer.abschaffen.und.Körperschaftssteuer.senken</th>\n",
       "      <th>Erhöhung.der.Luftverkehrssteuer</th>\n",
       "      <th>Haushalt.für.die.Bundeskanzlerin.und.das.Bundeskanzleramt</th>\n",
       "      <th>Bundeshaushalt.2020</th>\n",
       "      <th>Einsetzung.einer.Kommission.zur.Reform.der.förderalen.Sicherheitsarchitektur</th>\n",
       "      <th>Umsetzung.des.Klimaschutzprogramms.2030</th>\n",
       "      <th>Abschuss.von.Wölfen.erleichtern</th>\n",
       "      <th>Organspenden.Reform..Widerspruchslösung</th>\n",
       "      <th>Organspenden.Reform..Zustimmungslösung</th>\n",
       "    </tr>\n",
       "  </thead>\n",
       "  <tbody>\n",
       "    <tr>\n",
       "      <th>0</th>\n",
       "      <td>_martinneumann</td>\n",
       "      <td>974589289689427968</td>\n",
       "      <td>1113689713083396099</td>\n",
       "      <td>2019-04-04</td>\n",
       "      <td>Heute werde ich in der Aktuellen Stunde meiner...</td>\n",
       "      <td>FALSE</td>\n",
       "      <td>de</td>\n",
       "      <td>Martin Neumann</td>\n",
       "      <td>27</td>\n",
       "      <td>NA</td>\n",
       "      <td>...</td>\n",
       "      <td>dafür gestimmt</td>\n",
       "      <td>dafür gestimmt</td>\n",
       "      <td>dagegen gestimmt</td>\n",
       "      <td>dagegen gestimmt</td>\n",
       "      <td>dagegen gestimmt</td>\n",
       "      <td>dafür gestimmt</td>\n",
       "      <td>dagegen gestimmt</td>\n",
       "      <td>dagegen gestimmt</td>\n",
       "      <td>dagegen gestimmt</td>\n",
       "      <td>dafür gestimmt</td>\n",
       "    </tr>\n",
       "    <tr>\n",
       "      <th>1</th>\n",
       "      <td>_martinneumann</td>\n",
       "      <td>974589289689427968</td>\n",
       "      <td>1051942785371267073</td>\n",
       "      <td>2018-10-15</td>\n",
       "      <td>Der geniale Coup der Grünen war und ist es, Wä...</td>\n",
       "      <td>TRUE</td>\n",
       "      <td>de</td>\n",
       "      <td>Martin Neumann</td>\n",
       "      <td>27</td>\n",
       "      <td>NA</td>\n",
       "      <td>...</td>\n",
       "      <td>dafür gestimmt</td>\n",
       "      <td>dafür gestimmt</td>\n",
       "      <td>dagegen gestimmt</td>\n",
       "      <td>dagegen gestimmt</td>\n",
       "      <td>dagegen gestimmt</td>\n",
       "      <td>dafür gestimmt</td>\n",
       "      <td>dagegen gestimmt</td>\n",
       "      <td>dagegen gestimmt</td>\n",
       "      <td>dagegen gestimmt</td>\n",
       "      <td>dafür gestimmt</td>\n",
       "    </tr>\n",
       "    <tr>\n",
       "      <th>2</th>\n",
       "      <td>_martinneumann</td>\n",
       "      <td>974589289689427968</td>\n",
       "      <td>1051884310494621697</td>\n",
       "      <td>2018-10-15</td>\n",
       "      <td>Klimafreundliche Energie, aber ohne Atomkraftw...</td>\n",
       "      <td>TRUE</td>\n",
       "      <td>de</td>\n",
       "      <td>Martin Neumann</td>\n",
       "      <td>27</td>\n",
       "      <td>NA</td>\n",
       "      <td>...</td>\n",
       "      <td>dafür gestimmt</td>\n",
       "      <td>dafür gestimmt</td>\n",
       "      <td>dagegen gestimmt</td>\n",
       "      <td>dagegen gestimmt</td>\n",
       "      <td>dagegen gestimmt</td>\n",
       "      <td>dafür gestimmt</td>\n",
       "      <td>dagegen gestimmt</td>\n",
       "      <td>dagegen gestimmt</td>\n",
       "      <td>dagegen gestimmt</td>\n",
       "      <td>dafür gestimmt</td>\n",
       "    </tr>\n",
       "    <tr>\n",
       "      <th>3</th>\n",
       "      <td>_martinneumann</td>\n",
       "      <td>974589289689427968</td>\n",
       "      <td>1051934311870545921</td>\n",
       "      <td>2018-10-15</td>\n",
       "      <td>Die Bürgerinnen und Bürger erwarten kein Geld,...</td>\n",
       "      <td>TRUE</td>\n",
       "      <td>de</td>\n",
       "      <td>Martin Neumann</td>\n",
       "      <td>27</td>\n",
       "      <td>NA</td>\n",
       "      <td>...</td>\n",
       "      <td>dafür gestimmt</td>\n",
       "      <td>dafür gestimmt</td>\n",
       "      <td>dagegen gestimmt</td>\n",
       "      <td>dagegen gestimmt</td>\n",
       "      <td>dagegen gestimmt</td>\n",
       "      <td>dafür gestimmt</td>\n",
       "      <td>dagegen gestimmt</td>\n",
       "      <td>dagegen gestimmt</td>\n",
       "      <td>dagegen gestimmt</td>\n",
       "      <td>dafür gestimmt</td>\n",
       "    </tr>\n",
       "    <tr>\n",
       "      <th>4</th>\n",
       "      <td>_martinneumann</td>\n",
       "      <td>974589289689427968</td>\n",
       "      <td>1052103707825975296</td>\n",
       "      <td>2018-10-16</td>\n",
       "      <td>Auf der Konferenz „Urbane Energielösungen“ von...</td>\n",
       "      <td>TRUE</td>\n",
       "      <td>de</td>\n",
       "      <td>Martin Neumann</td>\n",
       "      <td>27</td>\n",
       "      <td>NA</td>\n",
       "      <td>...</td>\n",
       "      <td>dafür gestimmt</td>\n",
       "      <td>dafür gestimmt</td>\n",
       "      <td>dagegen gestimmt</td>\n",
       "      <td>dagegen gestimmt</td>\n",
       "      <td>dagegen gestimmt</td>\n",
       "      <td>dafür gestimmt</td>\n",
       "      <td>dagegen gestimmt</td>\n",
       "      <td>dagegen gestimmt</td>\n",
       "      <td>dagegen gestimmt</td>\n",
       "      <td>dafür gestimmt</td>\n",
       "    </tr>\n",
       "  </tbody>\n",
       "</table>\n",
       "<p>5 rows × 258 columns</p>\n",
       "</div>"
      ],
      "text/plain": [
       "      screen_name             user_id            status_id  created_at  \\\n",
       "0  _martinneumann  974589289689427968  1113689713083396099  2019-04-04   \n",
       "1  _martinneumann  974589289689427968  1051942785371267073  2018-10-15   \n",
       "2  _martinneumann  974589289689427968  1051884310494621697  2018-10-15   \n",
       "3  _martinneumann  974589289689427968  1051934311870545921  2018-10-15   \n",
       "4  _martinneumann  974589289689427968  1052103707825975296  2018-10-16   \n",
       "\n",
       "                                                text is_retweet lang  \\\n",
       "0  Heute werde ich in der Aktuellen Stunde meiner...      FALSE   de   \n",
       "1  Der geniale Coup der Grünen war und ist es, Wä...       TRUE   de   \n",
       "2  Klimafreundliche Energie, aber ohne Atomkraftw...       TRUE   de   \n",
       "3  Die Bürgerinnen und Bürger erwarten kein Geld,...       TRUE   de   \n",
       "4  Auf der Konferenz „Urbane Energielösungen“ von...       TRUE   de   \n",
       "\n",
       "         fullname faction name  ...  \\\n",
       "0  Martin Neumann      27   NA  ...   \n",
       "1  Martin Neumann      27   NA  ...   \n",
       "2  Martin Neumann      27   NA  ...   \n",
       "3  Martin Neumann      27   NA  ...   \n",
       "4  Martin Neumann      27   NA  ...   \n",
       "\n",
       "  Masernimpfpflicht.in.Gemeinschaftseinrichtungen  \\\n",
       "0                                  dafür gestimmt   \n",
       "1                                  dafür gestimmt   \n",
       "2                                  dafür gestimmt   \n",
       "3                                  dafür gestimmt   \n",
       "4                                  dafür gestimmt   \n",
       "\n",
       "  Gewerbesteuer.abschaffen.und.Körperschaftssteuer.senken  \\\n",
       "0                                     dafür gestimmt        \n",
       "1                                     dafür gestimmt        \n",
       "2                                     dafür gestimmt        \n",
       "3                                     dafür gestimmt        \n",
       "4                                     dafür gestimmt        \n",
       "\n",
       "  Erhöhung.der.Luftverkehrssteuer  \\\n",
       "0                dagegen gestimmt   \n",
       "1                dagegen gestimmt   \n",
       "2                dagegen gestimmt   \n",
       "3                dagegen gestimmt   \n",
       "4                dagegen gestimmt   \n",
       "\n",
       "  Haushalt.für.die.Bundeskanzlerin.und.das.Bundeskanzleramt  \\\n",
       "0                                   dagegen gestimmt          \n",
       "1                                   dagegen gestimmt          \n",
       "2                                   dagegen gestimmt          \n",
       "3                                   dagegen gestimmt          \n",
       "4                                   dagegen gestimmt          \n",
       "\n",
       "  Bundeshaushalt.2020  \\\n",
       "0    dagegen gestimmt   \n",
       "1    dagegen gestimmt   \n",
       "2    dagegen gestimmt   \n",
       "3    dagegen gestimmt   \n",
       "4    dagegen gestimmt   \n",
       "\n",
       "  Einsetzung.einer.Kommission.zur.Reform.der.förderalen.Sicherheitsarchitektur  \\\n",
       "0                                     dafür gestimmt                             \n",
       "1                                     dafür gestimmt                             \n",
       "2                                     dafür gestimmt                             \n",
       "3                                     dafür gestimmt                             \n",
       "4                                     dafür gestimmt                             \n",
       "\n",
       "  Umsetzung.des.Klimaschutzprogramms.2030 Abschuss.von.Wölfen.erleichtern  \\\n",
       "0                        dagegen gestimmt                dagegen gestimmt   \n",
       "1                        dagegen gestimmt                dagegen gestimmt   \n",
       "2                        dagegen gestimmt                dagegen gestimmt   \n",
       "3                        dagegen gestimmt                dagegen gestimmt   \n",
       "4                        dagegen gestimmt                dagegen gestimmt   \n",
       "\n",
       "  Organspenden.Reform..Widerspruchslösung  \\\n",
       "0                        dagegen gestimmt   \n",
       "1                        dagegen gestimmt   \n",
       "2                        dagegen gestimmt   \n",
       "3                        dagegen gestimmt   \n",
       "4                        dagegen gestimmt   \n",
       "\n",
       "  Organspenden.Reform..Zustimmungslösung  \n",
       "0                         dafür gestimmt  \n",
       "1                         dafür gestimmt  \n",
       "2                         dafür gestimmt  \n",
       "3                         dafür gestimmt  \n",
       "4                         dafür gestimmt  \n",
       "\n",
       "[5 rows x 258 columns]"
      ]
     },
     "execution_count": 3,
     "metadata": {},
     "output_type": "execute_result"
    }
   ],
   "source": [
    "df.head()"
   ]
  },
  {
   "attachments": {},
   "cell_type": "markdown",
   "metadata": {},
   "source": [
    "### Remove Columns"
   ]
  },
  {
   "cell_type": "code",
   "execution_count": 4,
   "metadata": {},
   "outputs": [],
   "source": [
    "columns = [\"screen_name\", \"user_id\", \"created_at\", \"text\", \"is_retweet\", \"fullname\", \"faction\", \"name\", \"social\", \"economic\", \"hashtags\", \"party\", \"birthyear\", \"followers_count\", \"list\", \"gender\"]"
   ]
  },
  {
   "cell_type": "code",
   "execution_count": 5,
   "metadata": {},
   "outputs": [
    {
     "data": {
      "text/html": [
       "<div>\n",
       "<style scoped>\n",
       "    .dataframe tbody tr th:only-of-type {\n",
       "        vertical-align: middle;\n",
       "    }\n",
       "\n",
       "    .dataframe tbody tr th {\n",
       "        vertical-align: top;\n",
       "    }\n",
       "\n",
       "    .dataframe thead th {\n",
       "        text-align: right;\n",
       "    }\n",
       "</style>\n",
       "<table border=\"1\" class=\"dataframe\">\n",
       "  <thead>\n",
       "    <tr style=\"text-align: right;\">\n",
       "      <th></th>\n",
       "      <th>screen_name</th>\n",
       "      <th>user_id</th>\n",
       "      <th>created_at</th>\n",
       "      <th>text</th>\n",
       "      <th>is_retweet</th>\n",
       "      <th>fullname</th>\n",
       "      <th>faction</th>\n",
       "      <th>name</th>\n",
       "      <th>social</th>\n",
       "      <th>economic</th>\n",
       "      <th>hashtags</th>\n",
       "      <th>party</th>\n",
       "      <th>birthyear</th>\n",
       "      <th>followers_count</th>\n",
       "      <th>list</th>\n",
       "      <th>gender</th>\n",
       "    </tr>\n",
       "  </thead>\n",
       "  <tbody>\n",
       "    <tr>\n",
       "      <th>0</th>\n",
       "      <td>_martinneumann</td>\n",
       "      <td>974589289689427968</td>\n",
       "      <td>2019-04-04</td>\n",
       "      <td>Heute werde ich in der Aktuellen Stunde meiner...</td>\n",
       "      <td>FALSE</td>\n",
       "      <td>Martin Neumann</td>\n",
       "      <td>27</td>\n",
       "      <td>NA</td>\n",
       "      <td>NA</td>\n",
       "      <td>NA</td>\n",
       "      <td>Förster</td>\n",
       "      <td>FDP</td>\n",
       "      <td>1956</td>\n",
       "      <td>1257</td>\n",
       "      <td>Landesliste Brandenburg</td>\n",
       "      <td>male</td>\n",
       "    </tr>\n",
       "    <tr>\n",
       "      <th>1</th>\n",
       "      <td>_martinneumann</td>\n",
       "      <td>974589289689427968</td>\n",
       "      <td>2018-10-15</td>\n",
       "      <td>Der geniale Coup der Grünen war und ist es, Wä...</td>\n",
       "      <td>TRUE</td>\n",
       "      <td>Martin Neumann</td>\n",
       "      <td>27</td>\n",
       "      <td>NA</td>\n",
       "      <td>NA</td>\n",
       "      <td>NA</td>\n",
       "      <td>Förster</td>\n",
       "      <td>FDP</td>\n",
       "      <td>1956</td>\n",
       "      <td>1257</td>\n",
       "      <td>Landesliste Brandenburg</td>\n",
       "      <td>male</td>\n",
       "    </tr>\n",
       "    <tr>\n",
       "      <th>2</th>\n",
       "      <td>_martinneumann</td>\n",
       "      <td>974589289689427968</td>\n",
       "      <td>2018-10-15</td>\n",
       "      <td>Klimafreundliche Energie, aber ohne Atomkraftw...</td>\n",
       "      <td>TRUE</td>\n",
       "      <td>Martin Neumann</td>\n",
       "      <td>27</td>\n",
       "      <td>NA</td>\n",
       "      <td>NA</td>\n",
       "      <td>NA</td>\n",
       "      <td>Förster</td>\n",
       "      <td>FDP</td>\n",
       "      <td>1956</td>\n",
       "      <td>1257</td>\n",
       "      <td>Landesliste Brandenburg</td>\n",
       "      <td>male</td>\n",
       "    </tr>\n",
       "    <tr>\n",
       "      <th>3</th>\n",
       "      <td>_martinneumann</td>\n",
       "      <td>974589289689427968</td>\n",
       "      <td>2018-10-15</td>\n",
       "      <td>Die Bürgerinnen und Bürger erwarten kein Geld,...</td>\n",
       "      <td>TRUE</td>\n",
       "      <td>Martin Neumann</td>\n",
       "      <td>27</td>\n",
       "      <td>NA</td>\n",
       "      <td>NA</td>\n",
       "      <td>NA</td>\n",
       "      <td>Förster</td>\n",
       "      <td>FDP</td>\n",
       "      <td>1956</td>\n",
       "      <td>1257</td>\n",
       "      <td>Landesliste Brandenburg</td>\n",
       "      <td>male</td>\n",
       "    </tr>\n",
       "    <tr>\n",
       "      <th>4</th>\n",
       "      <td>_martinneumann</td>\n",
       "      <td>974589289689427968</td>\n",
       "      <td>2018-10-16</td>\n",
       "      <td>Auf der Konferenz „Urbane Energielösungen“ von...</td>\n",
       "      <td>TRUE</td>\n",
       "      <td>Martin Neumann</td>\n",
       "      <td>27</td>\n",
       "      <td>NA</td>\n",
       "      <td>NA</td>\n",
       "      <td>NA</td>\n",
       "      <td>Förster</td>\n",
       "      <td>FDP</td>\n",
       "      <td>1956</td>\n",
       "      <td>1257</td>\n",
       "      <td>Landesliste Brandenburg</td>\n",
       "      <td>male</td>\n",
       "    </tr>\n",
       "  </tbody>\n",
       "</table>\n",
       "</div>"
      ],
      "text/plain": [
       "      screen_name             user_id  created_at  \\\n",
       "0  _martinneumann  974589289689427968  2019-04-04   \n",
       "1  _martinneumann  974589289689427968  2018-10-15   \n",
       "2  _martinneumann  974589289689427968  2018-10-15   \n",
       "3  _martinneumann  974589289689427968  2018-10-15   \n",
       "4  _martinneumann  974589289689427968  2018-10-16   \n",
       "\n",
       "                                                text is_retweet  \\\n",
       "0  Heute werde ich in der Aktuellen Stunde meiner...      FALSE   \n",
       "1  Der geniale Coup der Grünen war und ist es, Wä...       TRUE   \n",
       "2  Klimafreundliche Energie, aber ohne Atomkraftw...       TRUE   \n",
       "3  Die Bürgerinnen und Bürger erwarten kein Geld,...       TRUE   \n",
       "4  Auf der Konferenz „Urbane Energielösungen“ von...       TRUE   \n",
       "\n",
       "         fullname faction name social economic hashtags party birthyear  \\\n",
       "0  Martin Neumann      27   NA     NA       NA  Förster   FDP      1956   \n",
       "1  Martin Neumann      27   NA     NA       NA  Förster   FDP      1956   \n",
       "2  Martin Neumann      27   NA     NA       NA  Förster   FDP      1956   \n",
       "3  Martin Neumann      27   NA     NA       NA  Förster   FDP      1956   \n",
       "4  Martin Neumann      27   NA     NA       NA  Förster   FDP      1956   \n",
       "\n",
       "  followers_count                     list gender  \n",
       "0            1257  Landesliste Brandenburg   male  \n",
       "1            1257  Landesliste Brandenburg   male  \n",
       "2            1257  Landesliste Brandenburg   male  \n",
       "3            1257  Landesliste Brandenburg   male  \n",
       "4            1257  Landesliste Brandenburg   male  "
      ]
     },
     "execution_count": 5,
     "metadata": {},
     "output_type": "execute_result"
    }
   ],
   "source": [
    "df_slim = df[columns]\n",
    "\n",
    "df_slim.head()"
   ]
  },
  {
   "cell_type": "markdown",
   "metadata": {},
   "source": [
    "### Replace and Convert Values"
   ]
  },
  {
   "cell_type": "code",
   "execution_count": 6,
   "metadata": {},
   "outputs": [
    {
     "name": "stderr",
     "output_type": "stream",
     "text": [
      "/tmp/ipykernel_24327/503971307.py:2: SettingWithCopyWarning: \n",
      "A value is trying to be set on a copy of a slice from a DataFrame.\n",
      "Try using .loc[row_indexer,col_indexer] = value instead\n",
      "\n",
      "See the caveats in the documentation: https://pandas.pydata.org/pandas-docs/stable/user_guide/indexing.html#returning-a-view-versus-a-copy\n",
      "  df_slim[col] = df_slim[col].apply(lambda x: None if x == \"NA\" or x == \"NA, NA\" or x == \"NA, NA, NA, NA, NA, NA, NA, NA\" else x)\n"
     ]
    }
   ],
   "source": [
    "for col in columns:\n",
    "    df_slim[col] = df_slim[col].apply(lambda x: None if x == \"NA\" or x == \"NA, NA\" or x == \"NA, NA, NA, NA, NA, NA, NA, NA\" else x)"
   ]
  },
  {
   "cell_type": "code",
   "execution_count": 7,
   "metadata": {},
   "outputs": [
    {
     "name": "stdout",
     "output_type": "stream",
     "text": [
      "['is_retweet', 'social', 'economic', 'party', 'gender']\n"
     ]
    }
   ],
   "source": [
    "category_col = [col for col in df_slim.columns if df_slim[col].nunique() <= 15]\n",
    "category_col_values = {\n",
    "    col: df_slim[col].value_counts().to_dict() \n",
    "    for col in df_slim.columns if df_slim[col].nunique() <= 15\n",
    "}\n",
    "\n",
    "with open(\"out/category_col_values.json\", \"w\") as f:\n",
    "    json.dump(category_col_values, f)\n",
    "    \n",
    "print(category_col)"
   ]
  },
  {
   "cell_type": "code",
   "execution_count": 8,
   "metadata": {},
   "outputs": [],
   "source": [
    "convert_dict = {\n",
    "  \"screen_name\": \"string\",\n",
    "  \"user_id\": \"string\",\n",
    "  \"created_at\": \"string\", # TODO: Convert to datetime\n",
    "  \"text\": \"string\",\n",
    "  \"is_retweet\": \"bool\",\n",
    "  \"fullname\": \"string\",\n",
    "  \"faction\": \"float16\",\n",
    "  \"name\": \"string\",\n",
    "  \"social\": \"float16\",\n",
    "  \"economic\": \"float16\",\n",
    "  \"hashtags\": \"string\", # TODO: Convert to list\n",
    "  \"followers_count\": \"float32\",\n",
    "  \"party\": \"category\",\n",
    "  \"birthyear\": \"float32\",\n",
    "  \"list\": \"string\",\n",
    "  \"gender\": \"category\",\n",
    "}"
   ]
  },
  {
   "cell_type": "code",
   "execution_count": 9,
   "metadata": {},
   "outputs": [],
   "source": [
    "df_slim = df_slim.astype(convert_dict)"
   ]
  },
  {
   "cell_type": "code",
   "execution_count": 10,
   "metadata": {},
   "outputs": [
    {
     "name": "stdout",
     "output_type": "stream",
     "text": [
      "<class 'pandas.core.frame.DataFrame'>\n",
      "RangeIndex: 876118 entries, 0 to 876117\n",
      "Data columns (total 16 columns):\n",
      " #   Column           Non-Null Count   Dtype   \n",
      "---  ------           --------------   -----   \n",
      " 0   screen_name      876118 non-null  string  \n",
      " 1   user_id          876118 non-null  string  \n",
      " 2   created_at       876118 non-null  string  \n",
      " 3   text             865076 non-null  string  \n",
      " 4   is_retweet       876118 non-null  bool    \n",
      " 5   fullname         876118 non-null  string  \n",
      " 6   faction          787386 non-null  float16 \n",
      " 7   name             396902 non-null  string  \n",
      " 8   social           396902 non-null  float16 \n",
      " 9   economic         396902 non-null  float16 \n",
      " 10  hashtags         378562 non-null  string  \n",
      " 11  party            876118 non-null  category\n",
      " 12  birthyear        865352 non-null  float32 \n",
      " 13  followers_count  876118 non-null  float32 \n",
      " 14  list             816241 non-null  string  \n",
      " 15  gender           876118 non-null  category\n",
      "dtypes: bool(1), category(2), float16(3), float32(2), string(8)\n",
      "memory usage: 672.5 MB\n"
     ]
    }
   ],
   "source": [
    "df_slim.info(verbose=True, memory_usage=\"deep\")"
   ]
  },
  {
   "cell_type": "code",
   "execution_count": 11,
   "metadata": {},
   "outputs": [
    {
     "name": "stdout",
     "output_type": "stream",
     "text": [
      "11042\n"
     ]
    }
   ],
   "source": [
    "print(df_slim[\"text\"].isna().sum())\n",
    "\n",
    "df_slim = df_slim.dropna(subset=[\"text\"])"
   ]
  },
  {
   "attachments": {},
   "cell_type": "markdown",
   "metadata": {},
   "source": [
    "## Data Preparation\n",
    "\n",
    "---"
   ]
  },
  {
   "attachments": {},
   "cell_type": "markdown",
   "metadata": {},
   "source": [
    "### Clean Text"
   ]
  },
  {
   "cell_type": "code",
   "execution_count": 12,
   "metadata": {},
   "outputs": [],
   "source": [
    "# clean = CleanText()\n",
    "\n",
    "# df_slim[\"clean_text\"] = df_slim[\"text\"].apply(lambda x: clean.pipeline(x, True))"
   ]
  },
  {
   "cell_type": "code",
   "execution_count": 13,
   "metadata": {},
   "outputs": [
    {
     "data": {
      "text/plain": [
       "511"
      ]
     },
     "execution_count": 13,
     "metadata": {},
     "output_type": "execute_result"
    }
   ],
   "source": [
    "len(df_slim[\"screen_name\"].unique())"
   ]
  },
  {
   "cell_type": "code",
   "execution_count": 14,
   "metadata": {},
   "outputs": [
    {
     "data": {
      "text/plain": [
       "<AxesSubplot: xlabel='party', ylabel='count'>"
      ]
     },
     "execution_count": 14,
     "metadata": {},
     "output_type": "execute_result"
    },
    {
     "data": {
      "image/png": "[encoded data removed]",
      "text/plain": [
       "<Figure size 2000x800 with 1 Axes>"
      ]
     },
     "metadata": {},
     "output_type": "display_data"
    }
   ],
   "source": [
    "sns.countplot(x=\"party\", data=df_slim)"
   ]
  },
  {
   "cell_type": "code",
   "execution_count": 24,
   "metadata": {},
   "outputs": [
    {
     "name": "stdout",
     "output_type": "stream",
     "text": [
      "INFO: Pandarallel will run on 4 workers.\n",
      "INFO: Pandarallel will use Memory file system to transfer data between the main process and workers.\n"
     ]
    }
   ],
   "source": [
    "from pandarallel import pandarallel\n",
    "\n",
    "pandarallel.initialize(progress_bar=True)"
   ]
  },
  {
   "cell_type": "code",
   "execution_count": 26,
   "metadata": {},
   "outputs": [
    {
     "name": "stderr",
     "output_type": "stream",
     "text": [
      "[nltk_data] Downloading package stopwords to\n",
      "[nltk_data]     /home/felixhoffmnn/nltk_data...\n",
      "[nltk_data]   Package stopwords is already up-to-date!\n",
      "[nltk_data] Downloading package punkt to\n",
      "[nltk_data]     /home/felixhoffmnn/nltk_data...\n",
      "[nltk_data]   Package punkt is already up-to-date!\n"
     ]
    },
    {
     "data": {
      "application/vnd.jupyter.widget-view+json": {
       "model_id": "a86b10a57e924f5f8ffa17c027ea86a7",
       "version_major": 2,
       "version_minor": 0
      },
      "text/plain": [
       "VBox(children=(HBox(children=(IntProgress(value=0, description='0.00%', max=216269), Label(value='0 / 216269')…"
      ]
     },
     "metadata": {},
     "output_type": "display_data"
    }
   ],
   "source": [
    "clean = CleanText()\n",
    "\n",
    "df_slim[\"lemma_text\"] = df_slim[\"text\"].parallel_apply(lambda x: clean.pipeline(x, True))"
   ]
  },
  {
   "cell_type": "code",
   "execution_count": 27,
   "metadata": {},
   "outputs": [
    {
     "data": {
      "text/html": [
       "<div>\n",
       "<style scoped>\n",
       "    .dataframe tbody tr th:only-of-type {\n",
       "        vertical-align: middle;\n",
       "    }\n",
       "\n",
       "    .dataframe tbody tr th {\n",
       "        vertical-align: top;\n",
       "    }\n",
       "\n",
       "    .dataframe thead th {\n",
       "        text-align: right;\n",
       "    }\n",
       "</style>\n",
       "<table border=\"1\" class=\"dataframe\">\n",
       "  <thead>\n",
       "    <tr style=\"text-align: right;\">\n",
       "      <th></th>\n",
       "      <th>screen_name</th>\n",
       "      <th>user_id</th>\n",
       "      <th>created_at</th>\n",
       "      <th>text</th>\n",
       "      <th>is_retweet</th>\n",
       "      <th>fullname</th>\n",
       "      <th>faction</th>\n",
       "      <th>name</th>\n",
       "      <th>social</th>\n",
       "      <th>economic</th>\n",
       "      <th>hashtags</th>\n",
       "      <th>party</th>\n",
       "      <th>birthyear</th>\n",
       "      <th>followers_count</th>\n",
       "      <th>list</th>\n",
       "      <th>gender</th>\n",
       "      <th>lemma_text</th>\n",
       "    </tr>\n",
       "  </thead>\n",
       "  <tbody>\n",
       "    <tr>\n",
       "      <th>0</th>\n",
       "      <td>_martinneumann</td>\n",
       "      <td>974589289689427968</td>\n",
       "      <td>2019-04-04</td>\n",
       "      <td>Heute werde ich in der Aktuellen Stunde meiner...</td>\n",
       "      <td>True</td>\n",
       "      <td>Martin Neumann</td>\n",
       "      <td>27.0</td>\n",
       "      <td>&lt;NA&gt;</td>\n",
       "      <td>NaN</td>\n",
       "      <td>NaN</td>\n",
       "      <td>Förster</td>\n",
       "      <td>FDP</td>\n",
       "      <td>1956.0</td>\n",
       "      <td>1257.0</td>\n",
       "      <td>Landesliste Brandenburg</td>\n",
       "      <td>male</td>\n",
       "      <td>(heute werde ich in der aktuellen stunde meine...</td>\n",
       "    </tr>\n",
       "    <tr>\n",
       "      <th>1</th>\n",
       "      <td>_martinneumann</td>\n",
       "      <td>974589289689427968</td>\n",
       "      <td>2018-10-15</td>\n",
       "      <td>Der geniale Coup der Grünen war und ist es, Wä...</td>\n",
       "      <td>True</td>\n",
       "      <td>Martin Neumann</td>\n",
       "      <td>27.0</td>\n",
       "      <td>&lt;NA&gt;</td>\n",
       "      <td>NaN</td>\n",
       "      <td>NaN</td>\n",
       "      <td>Förster</td>\n",
       "      <td>FDP</td>\n",
       "      <td>1956.0</td>\n",
       "      <td>1257.0</td>\n",
       "      <td>Landesliste Brandenburg</td>\n",
       "      <td>male</td>\n",
       "      <td>(der geniale coup der grünen war und ist es wä...</td>\n",
       "    </tr>\n",
       "    <tr>\n",
       "      <th>2</th>\n",
       "      <td>_martinneumann</td>\n",
       "      <td>974589289689427968</td>\n",
       "      <td>2018-10-15</td>\n",
       "      <td>Klimafreundliche Energie, aber ohne Atomkraftw...</td>\n",
       "      <td>True</td>\n",
       "      <td>Martin Neumann</td>\n",
       "      <td>27.0</td>\n",
       "      <td>&lt;NA&gt;</td>\n",
       "      <td>NaN</td>\n",
       "      <td>NaN</td>\n",
       "      <td>Förster</td>\n",
       "      <td>FDP</td>\n",
       "      <td>1956.0</td>\n",
       "      <td>1257.0</td>\n",
       "      <td>Landesliste Brandenburg</td>\n",
       "      <td>male</td>\n",
       "      <td>(klimafreundliche energie aber ohne atomkraftw...</td>\n",
       "    </tr>\n",
       "    <tr>\n",
       "      <th>3</th>\n",
       "      <td>_martinneumann</td>\n",
       "      <td>974589289689427968</td>\n",
       "      <td>2018-10-15</td>\n",
       "      <td>Die Bürgerinnen und Bürger erwarten kein Geld,...</td>\n",
       "      <td>True</td>\n",
       "      <td>Martin Neumann</td>\n",
       "      <td>27.0</td>\n",
       "      <td>&lt;NA&gt;</td>\n",
       "      <td>NaN</td>\n",
       "      <td>NaN</td>\n",
       "      <td>Förster</td>\n",
       "      <td>FDP</td>\n",
       "      <td>1956.0</td>\n",
       "      <td>1257.0</td>\n",
       "      <td>Landesliste Brandenburg</td>\n",
       "      <td>male</td>\n",
       "      <td>(die bürgerinnen und bürger erwarten kein geld...</td>\n",
       "    </tr>\n",
       "    <tr>\n",
       "      <th>4</th>\n",
       "      <td>_martinneumann</td>\n",
       "      <td>974589289689427968</td>\n",
       "      <td>2018-10-16</td>\n",
       "      <td>Auf der Konferenz „Urbane Energielösungen“ von...</td>\n",
       "      <td>True</td>\n",
       "      <td>Martin Neumann</td>\n",
       "      <td>27.0</td>\n",
       "      <td>&lt;NA&gt;</td>\n",
       "      <td>NaN</td>\n",
       "      <td>NaN</td>\n",
       "      <td>Förster</td>\n",
       "      <td>FDP</td>\n",
       "      <td>1956.0</td>\n",
       "      <td>1257.0</td>\n",
       "      <td>Landesliste Brandenburg</td>\n",
       "      <td>male</td>\n",
       "      <td>(auf der konferenz „urbane energielösungen von...</td>\n",
       "    </tr>\n",
       "  </tbody>\n",
       "</table>\n",
       "</div>"
      ],
      "text/plain": [
       "      screen_name             user_id  created_at  \\\n",
       "0  _martinneumann  974589289689427968  2019-04-04   \n",
       "1  _martinneumann  974589289689427968  2018-10-15   \n",
       "2  _martinneumann  974589289689427968  2018-10-15   \n",
       "3  _martinneumann  974589289689427968  2018-10-15   \n",
       "4  _martinneumann  974589289689427968  2018-10-16   \n",
       "\n",
       "                                                text  is_retweet  \\\n",
       "0  Heute werde ich in der Aktuellen Stunde meiner...        True   \n",
       "1  Der geniale Coup der Grünen war und ist es, Wä...        True   \n",
       "2  Klimafreundliche Energie, aber ohne Atomkraftw...        True   \n",
       "3  Die Bürgerinnen und Bürger erwarten kein Geld,...        True   \n",
       "4  Auf der Konferenz „Urbane Energielösungen“ von...        True   \n",
       "\n",
       "         fullname  faction  name  social  economic hashtags party  birthyear  \\\n",
       "0  Martin Neumann     27.0  <NA>     NaN       NaN  Förster   FDP     1956.0   \n",
       "1  Martin Neumann     27.0  <NA>     NaN       NaN  Förster   FDP     1956.0   \n",
       "2  Martin Neumann     27.0  <NA>     NaN       NaN  Förster   FDP     1956.0   \n",
       "3  Martin Neumann     27.0  <NA>     NaN       NaN  Förster   FDP     1956.0   \n",
       "4  Martin Neumann     27.0  <NA>     NaN       NaN  Förster   FDP     1956.0   \n",
       "\n",
       "   followers_count                     list gender  \\\n",
       "0           1257.0  Landesliste Brandenburg   male   \n",
       "1           1257.0  Landesliste Brandenburg   male   \n",
       "2           1257.0  Landesliste Brandenburg   male   \n",
       "3           1257.0  Landesliste Brandenburg   male   \n",
       "4           1257.0  Landesliste Brandenburg   male   \n",
       "\n",
       "                                          lemma_text  \n",
       "0  (heute werde ich in der aktuellen stunde meine...  \n",
       "1  (der geniale coup der grünen war und ist es wä...  \n",
       "2  (klimafreundliche energie aber ohne atomkraftw...  \n",
       "3  (die bürgerinnen und bürger erwarten kein geld...  \n",
       "4  (auf der konferenz „urbane energielösungen von...  "
      ]
     },
     "execution_count": 27,
     "metadata": {},
     "output_type": "execute_result"
    }
   ],
   "source": [
    "df_slim.head()"
   ]
  }
 ],
 "metadata": {
  "kernelspec": {
   "display_name": ".venv",
   "language": "python",
   "name": "python3"
  },
  "language_info": {
   "codemirror_mode": {
    "name": "ipython",
    "version": 3
   },
   "file_extension": ".py",
   "mimetype": "text/x-python",
   "name": "python",
   "nbconvert_exporter": "python",
   "pygments_lexer": "ipython3",
   "version": "3.11.1"
  },
  "vscode": {
   "interpreter": {
    "hash": "7abe641ef5c60e7b2b79f06dad82c6b1ae6b3c4f8500bc012ee8285dc22561c6"
   }
  }
 },
 "nbformat": 4,
 "nbformat_minor": 2
}
