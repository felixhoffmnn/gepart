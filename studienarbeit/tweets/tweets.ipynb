{
 "cells": [
  {
   "attachments": {},
   "cell_type": "markdown",
   "metadata": {},
   "source": [
    "# Tweets (Sältzer)"
   ]
  },
  {
   "cell_type": "code",
   "execution_count": null,
   "metadata": {},
   "outputs": [],
   "source": [
    "import pandas as pd\n",
    "from pathlib import Path\n",
    "import seaborn as sns\n",
    "import json\n",
    "from studienarbeit.utils.cleaning import CleanText\n",
    "from dotenv import load_dotenv\n",
    "from pandarallel import pandarallel\n",
    "\n",
    "load_dotenv()\n",
    "sns.set(style=\"white\", palette=\"muted\", rc={\"figure.figsize\": (20, 8)})\n",
    "pandarallel.initialize()"
   ]
  },
  {
   "cell_type": "code",
   "execution_count": null,
   "metadata": {},
   "outputs": [],
   "source": [
    "FAST_MODE = True\n",
    "\n",
    "data_dir = Path(\"../../data/tweets\")\n",
    "line_kws={\"color\":\"r\",\"alpha\":0.7,\"lw\":5}"
   ]
  },
  {
   "attachments": {},
   "cell_type": "markdown",
   "metadata": {},
   "source": [
    "## Business Understanding\n",
    "\n",
    "---\n",
    "\n",
    "Lorem"
   ]
  },
  {
   "attachments": {},
   "cell_type": "markdown",
   "metadata": {},
   "source": [
    "## Data Understanding\n",
    "\n",
    "---"
   ]
  },
  {
   "cell_type": "code",
   "execution_count": null,
   "metadata": {},
   "outputs": [],
   "source": [
    "df = pd.read_parquet(data_dir / \"tweets.parquet\", columns=[\"screen_name\", \"user_id\", \"created_at\", \"text\", \"is_retweet\", \"fullname\", \"faction\", \"name\", \"social\", \"economic\", \"hashtags\", \"party\", \"birthyear\", \"followers_count\", \"list\", \"gender\"], use_nullable_dtypes=True)"
   ]
  },
  {
   "cell_type": "code",
   "execution_count": null,
   "metadata": {},
   "outputs": [],
   "source": [
    "df.head()"
   ]
  },
  {
   "cell_type": "code",
   "execution_count": null,
   "metadata": {},
   "outputs": [],
   "source": [
    "for col in df.columns:\n",
    "    df[col] = df[col].apply(lambda x: None if x == \"NA\" or x == [\"NA\"] or x == \"NA, NA\" or x == \"NA, NA, NA, NA, NA, NA, NA, NA\" else x)"
   ]
  },
  {
   "cell_type": "code",
   "execution_count": null,
   "metadata": {},
   "outputs": [],
   "source": [
    "df[\"hashtags\"] = df[\"hashtags\"].map(lambda x: x.split(', '), na_action=\"ignore\")"
   ]
  },
  {
   "attachments": {},
   "cell_type": "markdown",
   "metadata": {},
   "source": [
    "Check for missing values"
   ]
  },
  {
   "cell_type": "code",
   "execution_count": null,
   "metadata": {},
   "outputs": [],
   "source": [
    "df.isna().sum()"
   ]
  },
  {
   "attachments": {},
   "cell_type": "markdown",
   "metadata": {},
   "source": [
    "Drop columns with missing `text` values and tweets which have not a indicator for `is_retweet`"
   ]
  },
  {
   "cell_type": "code",
   "execution_count": null,
   "metadata": {},
   "outputs": [],
   "source": [
    "df.dropna(subset=[\"text\", \"is_retweet\"], inplace=True)"
   ]
  },
  {
   "attachments": {},
   "cell_type": "markdown",
   "metadata": {},
   "source": [
    "Following, we can check which columns represent categorical data."
   ]
  },
  {
   "cell_type": "code",
   "execution_count": null,
   "metadata": {},
   "outputs": [],
   "source": [
    "category_col = {\n",
    "    col: df[col].value_counts().to_dict() \n",
    "    for col in df.columns.drop(\"hashtags\") if df[col].nunique() <= 15\n",
    "}\n",
    "\n",
    "# with open(\"out/category_col_values.json\", \"w\") as f:\n",
    "#     json.dump(category_col, f)\n",
    "    \n",
    "print(category_col)"
   ]
  },
  {
   "cell_type": "code",
   "execution_count": null,
   "metadata": {},
   "outputs": [],
   "source": [
    "convert_dict = {\n",
    "  \"screen_name\": \"string\",\n",
    "  \"user_id\": \"string\",\n",
    "  \"created_at\": \"string\",\n",
    "  \"text\": \"string\",\n",
    "  \"is_retweet\": \"bool\",\n",
    "  \"fullname\": \"string\",\n",
    "  \"faction\": \"float32\",\n",
    "  \"name\": \"string\",\n",
    "  \"social\": \"float32\",\n",
    "  \"economic\": \"float32\",\n",
    "  \"hashtags\": \"string\",\n",
    "  \"followers_count\": \"float32\",\n",
    "  \"party\": \"category\",\n",
    "  \"birthyear\": \"float32\",\n",
    "  \"list\": \"string\",\n",
    "  \"gender\": \"category\",\n",
    "}"
   ]
  },
  {
   "cell_type": "code",
   "execution_count": null,
   "metadata": {},
   "outputs": [],
   "source": [
    "df = df.astype(convert_dict)"
   ]
  },
  {
   "cell_type": "code",
   "execution_count": null,
   "metadata": {},
   "outputs": [],
   "source": [
    "df.info(verbose=True, memory_usage=\"deep\")"
   ]
  },
  {
   "attachments": {},
   "cell_type": "markdown",
   "metadata": {},
   "source": [
    "## Data Preparation\n",
    "\n",
    "---"
   ]
  },
  {
   "cell_type": "code",
   "execution_count": null,
   "metadata": {},
   "outputs": [],
   "source": [
    "df_prep = df.copy()"
   ]
  },
  {
   "attachments": {},
   "cell_type": "markdown",
   "metadata": {},
   "source": [
    "Either load the cached data or process the raw tweets"
   ]
  },
  {
   "cell_type": "code",
   "execution_count": null,
   "metadata": {},
   "outputs": [],
   "source": [
    "if FAST_MODE and (data_dir / \"cache/tweets_prep.parquet\").exists():\n",
    "    df_prep = pd.read_parquet(data_dir / \"cache/tweets_prep.parquet\")\n",
    "else:\n",
    "    clean = CleanText()\n",
    "  \n",
    "    df_prep[\"clean_text\"] = df_prep[\"text\"].parallel_apply(lambda x: clean.clean_text(x, True))\n",
    "    df_prep[\"tokenized_text\"] = df_prep[\"clean_text\"].parallel_apply(lambda x: clean.remove_stopwords(clean.stemm_text(x)))\n",
    "    \n",
    "    if (data_dir / \"cache\").exists() == False:\n",
    "        (data_dir / \"cache\").mkdir()\n",
    "    df_prep.to_parquet(data_dir / \"cache/tweets_prep.parquet\")"
   ]
  },
  {
   "cell_type": "code",
   "execution_count": null,
   "metadata": {},
   "outputs": [],
   "source": [
    "df_prep.head()"
   ]
  },
  {
   "cell_type": "code",
   "execution_count": null,
   "metadata": {},
   "outputs": [],
   "source": [
    "len(df_prep[\"screen_name\"].unique())"
   ]
  },
  {
   "cell_type": "code",
   "execution_count": null,
   "metadata": {},
   "outputs": [],
   "source": [
    "sns.countplot(x=\"party\", data=df_prep)"
   ]
  }
 ],
 "metadata": {
  "kernelspec": {
   "display_name": ".venv",
   "language": "python",
   "name": "python3"
  },
  "language_info": {
   "codemirror_mode": {
    "name": "ipython",
    "version": 3
   },
   "file_extension": ".py",
   "mimetype": "text/x-python",
   "name": "python",
   "nbconvert_exporter": "python",
   "pygments_lexer": "ipython3",
   "version": "3.11.1"
  },
  "vscode": {
   "interpreter": {
    "hash": "7abe641ef5c60e7b2b79f06dad82c6b1ae6b3c4f8500bc012ee8285dc22561c6"
   }
  }
 },
 "nbformat": 4,
 "nbformat_minor": 2
}
