{
 "cells": [
  {
   "cell_type": "code",
   "execution_count": null,
   "metadata": {},
   "outputs": [],
   "source": [
    "import pandas as pd\n",
    "import seaborn as sns\n",
    "import json\n",
    "\n",
    "from studienarbeit.utils.plots import Plots\n",
    "from studienarbeit.utils.load import EDataTypes\n",
    "from pathlib import Path\n",
    "from dotenv import load_dotenv\n",
    "from nltk.tokenize import sent_tokenize\n",
    "from tqdm import tqdm"
   ]
  },
  {
   "cell_type": "code",
   "execution_count": null,
   "metadata": {},
   "outputs": [],
   "source": [
    "load_dotenv()\n",
    "sns.set(style=\"white\", palette=\"muted\", rc={\"figure.figsize\": (20, 8)})\n",
    "tqdm.pandas()"
   ]
  },
  {
   "cell_type": "code",
   "execution_count": null,
   "metadata": {},
   "outputs": [],
   "source": [
    "data_dir = Path(\"../../data/party_programs\")\n",
    "data_type = EDataTypes.PARTY_PROGRAMS"
   ]
  },
  {
   "cell_type": "code",
   "execution_count": null,
   "metadata": {},
   "outputs": [],
   "source": [
    "with open(\"../../data/party_colors.json\", \"r\", encoding=\"utf-8\") as f:\n",
    "  party_palette = json.load(f)\n",
    "plots = Plots(data_type, data_dir, party_palette)"
   ]
  },
  {
   "cell_type": "code",
   "execution_count": null,
   "metadata": {},
   "outputs": [],
   "source": [
    "df_party_programs = pd.read_parquet(data_dir / \"party_programs.parquet\")\n",
    "df_party_programs"
   ]
  },
  {
   "cell_type": "code",
   "execution_count": null,
   "metadata": {},
   "outputs": [],
   "source": [
    "with open(\"../../data/party_encoding.json\", \"r\", encoding=\"utf-8\") as f:\n",
    "  party_encoding = json.load(f)\n",
    "  party_encoding = {v: k for k, v in party_encoding.items()}\n",
    "  df_party_programs[\"party\"] = df_party_programs[\"party\"].map(party_encoding)\n",
    "df_party_programs"
   ]
  },
  {
   "cell_type": "code",
   "execution_count": null,
   "metadata": {},
   "outputs": [],
   "source": [
    "plots.party_count(df_party_programs)"
   ]
  },
  {
   "cell_type": "code",
   "execution_count": null,
   "metadata": {},
   "outputs": [],
   "source": [
    "df_party_programs[\"char_count\"] = df_party_programs[\"clean_text\"].progress_apply(len).astype(\"int16\")\n",
    "df_party_programs[\"word_count\"] = df_party_programs[\"clean_text\"].progress_apply(lambda x : len(x.split())).astype(\"int16\")\n",
    "df_party_programs[\"sentence_count\"] = df_party_programs[\"clean_text\"].progress_apply(lambda x : len(sent_tokenize(x))).astype(\"int16\")"
   ]
  },
  {
   "cell_type": "code",
   "execution_count": null,
   "metadata": {},
   "outputs": [],
   "source": [
    "plots.word_count(df_party_programs, \"word_count\", \"Anzahl an Wörtern nach Partei\", 400, \"Anzahl an Wörtern\")"
   ]
  },
  {
   "cell_type": "code",
   "execution_count": null,
   "metadata": {},
   "outputs": [],
   "source": [
    "plots.wordclouds(df_party_programs)"
   ]
  }
 ],
 "metadata": {
  "kernelspec": {
   "display_name": "studienarbeit-gw8hJpxJ-py3.10",
   "language": "python",
   "name": "python3"
  },
  "language_info": {
   "codemirror_mode": {
    "name": "ipython",
    "version": 3
   },
   "file_extension": ".py",
   "mimetype": "text/x-python",
   "name": "python",
   "nbconvert_exporter": "python",
   "pygments_lexer": "ipython3",
   "version": "3.10.7"
  }
 },
 "nbformat": 4,
 "nbformat_minor": 2
}
