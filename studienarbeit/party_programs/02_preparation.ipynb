{
 "cells": [
  {
   "attachments": {},
   "cell_type": "markdown",
   "metadata": {},
   "source": [
    "## Data Preparation"
   ]
  },
  {
   "cell_type": "code",
   "execution_count": null,
   "metadata": {},
   "outputs": [],
   "source": [
    "import pandas as pd\n",
    "import json\n",
    "import seaborn as sns\n",
    "\n",
    "from dotenv import load_dotenv\n",
    "from pathlib import Path\n",
    "from studienarbeit.utils.cleaning import Cleaning\n",
    "from studienarbeit.utils.split_text import SplitText\n",
    "from studienarbeit.utils.load import EDataTypes\n",
    "from tqdm import tqdm"
   ]
  },
  {
   "cell_type": "code",
   "execution_count": null,
   "metadata": {},
   "outputs": [],
   "source": [
    "load_dotenv()\n",
    "sns.set(style=\"white\", palette=\"muted\", rc={\"figure.figsize\": (20, 8)})\n",
    "tqdm.pandas()"
   ]
  },
  {
   "cell_type": "code",
   "execution_count": null,
   "metadata": {},
   "outputs": [],
   "source": [
    "data_dir = Path(\"../../data/party_programs\")\n",
    "data_type = EDataTypes.PARTY_PROGRAMS"
   ]
  },
  {
   "cell_type": "code",
   "execution_count": null,
   "metadata": {},
   "outputs": [],
   "source": [
    "with open(\"../../data/party_colors.json\", \"r\", encoding=\"utf-8\") as f:\n",
    "    party_palette = json.load(f)\n",
    "cleaning = Cleaning()\n",
    "split_text = SplitText()"
   ]
  },
  {
   "cell_type": "code",
   "execution_count": null,
   "metadata": {},
   "outputs": [],
   "source": [
    "SENTENCE_LEVEL = True\n",
    "MIN_WORD_COUNT = 5"
   ]
  },
  {
   "cell_type": "code",
   "execution_count": null,
   "metadata": {},
   "outputs": [],
   "source": [
    "df_prep = pd.read_parquet(data_dir / \"party_programs_before_cleaning.parquet\")"
   ]
  },
  {
   "cell_type": "code",
   "execution_count": null,
   "metadata": {},
   "outputs": [],
   "source": [
    "df_prep.duplicated(subset=[\"text_orig\"]).sum()"
   ]
  },
  {
   "cell_type": "code",
   "execution_count": null,
   "metadata": {},
   "outputs": [],
   "source": [
    "df_prep = df_prep.drop_duplicates(subset=[\"text_orig\"]).reset_index(drop=True)"
   ]
  },
  {
   "cell_type": "code",
   "execution_count": null,
   "metadata": {},
   "outputs": [],
   "source": [
    "df_prep.duplicated(subset=[\"text_orig\"]).sum()"
   ]
  },
  {
   "cell_type": "code",
   "execution_count": null,
   "metadata": {},
   "outputs": [],
   "source": [
    "df_prep[\"clean_text\"] = (\n",
    "    df_prep[\"text_orig\"]\n",
    "    .progress_apply(lambda x: cleaning.clean_text(x, keep_punctuation=True, keep_upper=True))\n",
    "    .astype(\"string[pyarrow]\")\n",
    ")\n",
    "\n",
    "df_prep.drop(columns=[\"text_orig\", \"election_type\", \"election\"], inplace=True)\n",
    "df_prep"
   ]
  },
  {
   "cell_type": "code",
   "execution_count": null,
   "metadata": {},
   "outputs": [],
   "source": [
    "if SENTENCE_LEVEL:\n",
    "    df_prep = split_text.split_dataframe_texts(df_prep, \"clean_text\", None, SENTENCE_LEVEL)\n",
    "df_prep"
   ]
  },
  {
   "cell_type": "code",
   "execution_count": null,
   "metadata": {},
   "outputs": [],
   "source": [
    "df_prep[\"word_count\"] = df_prep[\"clean_text\"].progress_apply(lambda x: len(x.split()))\n",
    "df_prep = df_prep[df_prep[\"word_count\"] > MIN_WORD_COUNT].reset_index(drop=True).drop(columns=[\"word_count\"])\n",
    "df_prep"
   ]
  },
  {
   "cell_type": "code",
   "execution_count": null,
   "metadata": {},
   "outputs": [],
   "source": [
    "df_prep[\"tokenized_text\"] = (\n",
    "    df_prep[\"clean_text\"]\n",
    "    .progress_apply(lambda x: cleaning.filter_text(cleaning.lemma_text(x)))\n",
    "    .astype(\"string[pyarrow]\")\n",
    ")\n",
    "df_prep"
   ]
  },
  {
   "cell_type": "code",
   "execution_count": null,
   "metadata": {},
   "outputs": [],
   "source": [
    "df_final = df_prep.copy().reset_index(drop=True)"
   ]
  },
  {
   "cell_type": "code",
   "execution_count": null,
   "metadata": {},
   "outputs": [],
   "source": [
    "with open(\"../../data/party_encoding.json\", \"r\", encoding=\"utf-8\") as f:\n",
    "    party_encoding = json.load(f)\n",
    "\n",
    "df_final[\"party\"] = df_final[\"party\"].map(party_encoding)\n",
    "df_final"
   ]
  },
  {
   "cell_type": "code",
   "execution_count": null,
   "metadata": {},
   "outputs": [],
   "source": [
    "if SENTENCE_LEVEL:\n",
    "    df_final.to_parquet(data_dir / \"party_programs_sentence.parquet\", index=False)\n",
    "else:\n",
    "    df_final.to_parquet(data_dir / \"party_programs.parquet\", index=False)"
   ]
  }
 ],
 "metadata": {
  "kernelspec": {
   "display_name": "studienarbeit-gw8hJpxJ-py3.10",
   "language": "python",
   "name": "python3"
  },
  "language_info": {
   "codemirror_mode": {
    "name": "ipython",
    "version": 3
   },
   "file_extension": ".py",
   "mimetype": "text/x-python",
   "name": "python",
   "nbconvert_exporter": "python",
   "pygments_lexer": "ipython3",
   "version": "3.10.7"
  }
 },
 "nbformat": 4,
 "nbformat_minor": 2
}
